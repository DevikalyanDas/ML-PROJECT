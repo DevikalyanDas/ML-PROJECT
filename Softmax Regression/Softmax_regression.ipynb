{
  "nbformat": 4,
  "nbformat_minor": 0,
  "metadata": {
    "colab": {
      "name": "Softmax regression.ipynb",
      "provenance": [],
      "collapsed_sections": []
    },
    "kernelspec": {
      "name": "python3",
      "display_name": "Python 3"
    }
  },
  "cells": [
    {
      "cell_type": "code",
      "metadata": {
        "id": "i-CSGlAgbpXb",
        "colab_type": "code",
        "colab": {}
      },
      "source": [
        "from sklearn.datasets import fetch_openml\n",
        "\n",
        "mnist = fetch_openml('mnist_784')\n",
        "x = mnist.data\n",
        "y = mnist.target"
      ],
      "execution_count": 0,
      "outputs": []
    },
    {
      "cell_type": "code",
      "metadata": {
        "id": "SMUJqypgwxZ3",
        "colab_type": "code",
        "colab": {}
      },
      "source": [
        "import numpy as np\n",
        "import matplotlib.pyplot as plt\n",
        "import random "
      ],
      "execution_count": 0,
      "outputs": []
    },
    {
      "cell_type": "code",
      "metadata": {
        "id": "G2XrlmdWyXGY",
        "colab_type": "code",
        "colab": {}
      },
      "source": [
        "def loss_grad_softmax_naive(W, X, y, reg):\n",
        "    \"\"\"\n",
        "    Compute the loss and gradients using softmax function \n",
        "    with loop, which is slow.\n",
        "    Parameters\n",
        "    ----------\n",
        "    W: (K, D) array of weights, K is the number of classes and D is the dimension of one sample.\n",
        "    X: (D, N) array of training data, each column is a training sample with D-dimension.\n",
        "    y: (N, ) 1-dimension array of target data with length N with lables 0,1, ... K-1, for K classes\n",
        "    reg: (float) regularization strength for optimization.\n",
        "    Returns\n",
        "    -------\n",
        "    a tuple of two items (loss, grad)\n",
        "    loss: (float)\n",
        "    grad: (K, D) with respect to W\n",
        "    \"\"\"\n",
        "    loss = 0\n",
        "    grad = np.zeros_like(W)\n",
        "    dim, num_train = X.shape\n",
        "    num_classes = W.shape[0]\n",
        "    for i in range(num_train):\n",
        "        sample_x = X[:, i]\n",
        "        scores = np.zeros(num_classes) # [K, 1] unnormalized score\n",
        "        for cls in range(num_classes):\n",
        "            w = W[cls, :]\n",
        "            scores[cls] = w.dot(sample_x)\n",
        "        # Shift the scores so that the highest value is 0\n",
        "        scores -= np.max(scores)\n",
        "        correct_class = y[i]\n",
        "        sum_exp_scores = np.sum(np.exp(scores))\n",
        "        corr_cls_exp_score = np.exp(scores[int(correct_class)])\n",
        "        loss_x = -np.log(corr_cls_exp_score / sum_exp_scores)\n",
        "        loss += loss_x\n",
        "\n",
        "        # compute the gradient\n",
        "        percent_exp_score = np.exp(scores) / sum_exp_scores\n",
        "        for j in range(num_classes):\n",
        "            grad[j, :] += percent_exp_score[j] * sample_x\n",
        "\n",
        "\n",
        "        grad[int(correct_class), :] -= sample_x # deal with the correct class\n",
        "\n",
        "    loss /= num_train\n",
        "    loss += 0.5 * reg * np.sum(W * W) # add regularization\n",
        "    grad /= num_train\n",
        "    grad += reg * W\n",
        "    return loss, grad\n",
        "\n",
        "def loss_grad_softmax_vectorized(W, X, y, reg):\n",
        "    \"\"\" Compute the loss and gradients using softmax with vectorized version\"\"\"\n",
        "    loss = 0 \n",
        "    grad = np.zeros_like(W)\n",
        "    dim, num_train = X.shape\n",
        "\n",
        "    scores = W.dot(X) # [K, N]\n",
        "    # Shift scores so that the highest value is 0\n",
        "    scores -= np.max(scores)\n",
        "    scores_exp = np.exp(scores)\n",
        "    # print(int(y))\n",
        "    correct_scores_exp = scores_exp[y.astype(int), range(num_train)] # [N, ]\n",
        "    scores_exp_sum = np.sum(scores_exp, axis=0) # [N, ]\n",
        "    loss = -np.sum(np.log(correct_scores_exp / scores_exp_sum))\n",
        "    loss /= num_train\n",
        "    loss += 0.5 * reg * np.sum(W * W)\n",
        "\n",
        "    scores_exp_normalized = scores_exp / scores_exp_sum\n",
        "    # deal with the correct class\n",
        "    scores_exp_normalized[y.astype(int), range(num_train)] -= 1 # [K, N]\n",
        "    grad = scores_exp_normalized.dot(X.T)\n",
        "    grad /= num_train\n",
        "    grad += reg * W\n",
        "\n",
        "    return loss, grad"
      ],
      "execution_count": 0,
      "outputs": []
    },
    {
      "cell_type": "code",
      "metadata": {
        "id": "YRIWCyw570Ya",
        "colab_type": "code",
        "colab": {}
      },
      "source": [
        "import numpy as np\n",
        "# from algorithms.classifiers.loss_grad_logistic import *\n",
        "# from algorithms.classifiers.loss_grad_softmax import *\n",
        "# from algorithms.classifiers.loss_grad_svm import *\n",
        "\n",
        "class LinearClassifier:\n",
        "\n",
        "    def __init__(self):\n",
        "        self.W = None # set up the weight matrix \n",
        "\n",
        "    def train(self, X, y, method='sgd', batch_size=200, learning_rate=1e-4,\n",
        "              reg = 1e3, num_iters=1000, verbose=False, vectorized=True):\n",
        "        \"\"\"\n",
        "        Train linear classifer using batch gradient descent or stochastic gradient descent\n",
        "        Parameters\n",
        "        ----------\n",
        "        X: (D x N) array of training data, each column is a training sample with D-dimension.\n",
        "        y: (N, ) 1-dimension array of target data with length N.\n",
        "        method: (string) determine whether using 'bgd' or 'sgd'.\n",
        "        batch_size: (integer) number of training examples to use at each step.\n",
        "        learning_rate: (float) learning rate for optimization.\n",
        "        reg: (float) regularization strength for optimization.\n",
        "        num_iters: (integer) number of steps to take when optimization.\n",
        "        verbose: (boolean) if True, print out the progress (loss) when optimization.\n",
        "        Returns\n",
        "        -------\n",
        "        losses_history: (list) of losses at each training iteration\n",
        "        \"\"\"\n",
        "\n",
        "        dim, num_train = X.shape\n",
        "        \n",
        "        num_classes = np.max(y.astype(int)) + 1 # assume y takes values 0...K-1 where K is number of classes\n",
        "\n",
        "        if self.W is None:\n",
        "            # initialize the weights with small values\n",
        "            if num_classes == 2: # just need weights for one class\n",
        "                self.W = np.random.randn(1, dim) * 0.001\n",
        "            else: # weigths for each class\n",
        "                self.W = np.random.randn(num_classes, dim) * 0.001\n",
        "\n",
        "        losses_history = []\n",
        "\n",
        "        for i in range(num_iters):\n",
        "            if method == 'bgd':\n",
        "                loss, grad = self.loss_grad(X, y, reg, vectorized)\n",
        "            else:\n",
        "                # randomly choose a min-batch of samples\n",
        "                idxs = np.random.choice(num_train, batch_size, replace=False)\n",
        "                loss, grad = self.loss_grad(X[:, idxs], y[idxs], reg, vectorized) # grad => [K x D]\n",
        "                \n",
        "            losses_history.append(loss)\n",
        "            # update weights\n",
        "            self.W -= learning_rate * grad # [K x D]\n",
        "            # print self.W\n",
        "            # print 'dsfad', grad.shape\n",
        "            if verbose and (i % 100 == 0):\n",
        "                print('iteration %d/%d: loss %f' % (i, num_iters, loss))\n",
        "\n",
        "        return losses_history\n",
        "\n",
        "    def predict(self, X):\n",
        "        \"\"\"\n",
        "        Predict value of y using trained weights\n",
        "        Parameters\n",
        "        ----------\n",
        "        X: (D x N) array of data, each column is a sample with D-dimension.\n",
        "        Returns\n",
        "        -------\n",
        "        pred_ys: (N, ) 1-dimension array of y for N sampels\n",
        "        h_x_mat: Normalized scores\n",
        "        \"\"\"\n",
        "        pred_ys = np.zeros(X.shape[1])\n",
        "        f_x_mat = self.W.dot(X)\n",
        "        if self.__class__.__name__ == 'Logistic':\n",
        "            pred_ys = f_x_mat.squeeze() >=0\n",
        "        else: # multiclassification\n",
        "            pred_ys = np.argmax(f_x_mat, axis=0)\n",
        "        # normalized score\n",
        "        h_x_mat = 1.0 / (1.0 + np.exp(-f_x_mat)) # [1, N]\n",
        "        h_x_mat = h_x_mat.squeeze()\n",
        "        # print(pred_ys)\n",
        "        # print(h_x_mat)\n",
        "        return pred_ys, h_x_mat\n",
        "\n",
        "    def loss_grad(self, X, y, reg, vectorized=True):\n",
        "        \"\"\"\n",
        "        Compute the loss and gradients.\n",
        "        Parameters\n",
        "        ----------\n",
        "        The same as self.train()\n",
        "        Returns\n",
        "        -------\n",
        "        a tuple of two items (loss, grad)\n",
        "        loss: (float)\n",
        "        grad: (array) with respect to self.W\n",
        "        \"\"\"\n",
        "        pass\n",
        "\n",
        "\n",
        "# Subclasses of linear classifier\n",
        "class Logistic(LinearClassifier):\n",
        "    \"\"\"A subclass for binary classification using logistic function\"\"\"\n",
        "    def loss_grad(self, X, y, reg, vectorized=True):\n",
        "        if vectorized:\n",
        "            return loss_grad_logistic_vectorized(self.W, X, y, reg)\n",
        "        else:\n",
        "            return loss_grad_logistic_naive(self.W, X, y, reg)\n",
        "\n",
        "\n",
        "class Softmax(LinearClassifier):\n",
        "    \"\"\"A subclass for multi-classicication using Softmax function\"\"\"\n",
        "    def loss_grad(self, X, y, reg, vectorized=True):\n",
        "        if vectorized:\n",
        "            return loss_grad_softmax_vectorized(self.W, X, y, reg)\n",
        "        else:\n",
        "            return loss_grad_softmax_naive(self.W, X, y, reg)\n",
        "\n",
        "\n",
        "class SVM(LinearClassifier):\n",
        "    \"\"\"A subclass for multi-classicication using SVM function\"\"\"\n",
        "    def loss_grad(self, X, y, reg, vectorized=True):\n",
        "        return loss_grad_svm_vectorized(self.W, X, y, reg)\n"
      ],
      "execution_count": 0,
      "outputs": []
    },
    {
      "cell_type": "code",
      "metadata": {
        "id": "yGYzcbRumrEB",
        "colab_type": "code",
        "outputId": "ad26cd6f-9ced-44fc-c3d5-54c4cd05b941",
        "colab": {
          "base_uri": "https://localhost:8080/",
          "height": 365
        }
      },
      "source": [
        "from sklearn.model_selection import train_test_split\n",
        "import numpy as np\n",
        "import matplotlib.pyplot as plt\n",
        "import random \n",
        "\n",
        "classes = ['0', '1', '2', '3', '4', '5', '6', '7', '8', '9']\n",
        "\n",
        "def get_mnist_data(num_training=50000, num_val=10000, num_test=10000, show_sample=True):\n",
        "    \"\"\"\n",
        "    Load the CIFAR-10 dataset, and divide the sample into training set, validation set and test set\n",
        "    \"\"\"\n",
        "\n",
        "    cifar10_dir = 'datasets/datasets-cifar-10/cifar-10-batches-py/'\n",
        "    X_train1, X_test, y_train1, y_test = train_test_split(x,y,test_size=10000)\n",
        "    \n",
        "    X_train = X_train1[:num_training]\n",
        "    y_train = y_train1[:num_training]    \n",
        "    # subsample the data for validation set\n",
        "    X_val = X_train1[num_training:]\n",
        "    y_val = y_train1[num_training:]\n",
        "    \n",
        "    return X_train, y_train, X_val, y_val, X_test, y_test\n",
        "\n",
        "def visualize_sample(X_train, y_train, classes, samples_per_class=7):\n",
        "    \"\"\"visualize some samples in the training datasets \"\"\"\n",
        "    num_classes = len(classes)\n",
        "    for y, cls in enumerate(classes):\n",
        "        \n",
        "        idxs = np.flatnonzero(y_train == str(y)) # get all the indexes of cls\n",
        "        idxs = np.random.choice(idxs, samples_per_class, replace=False)\n",
        "        for i, idx in enumerate(idxs): # plot the image one by one\n",
        "            plt_idx = i * num_classes + y + 1 # i*num_classes and y+1 determine the row and column respectively\n",
        "            plt.subplot(samples_per_class, num_classes, plt_idx)\n",
        "            plt.imshow(np.reshape(X_train[idx].astype('uint8'),(28,28)))  #np.reshape(out[0]*255,(224,224))\n",
        "            plt.axis('off')\n",
        "            if i == 0:\n",
        "                plt.title(cls)\n",
        "    plt.show()\n",
        "    \n",
        "def preprocessing_mnist_data(X_train, y_train, X_val, y_val, X_test, y_test):\n",
        "    \n",
        "    # Preprocessing: reshape the image data into rows\n",
        "    X_train = np.reshape(X_train, (X_train.shape[0], -1)) # [49000, 3072]\n",
        "    X_val = np.reshape(X_val, (X_val.shape[0], -1)) # [1000, 3072]\n",
        "    X_test = np.reshape(X_test, (X_test.shape[0], -1)) # [10000, 3072]\n",
        "    # print(np.flatnonzero((X_train)[0]))\n",
        "    # Normalize the data: subtract the mean image\n",
        "    # mean_image = np.mean(X_train, axis = 0)\n",
        "    # X_train -= mean_image\n",
        "    # X_val -= mean_image\n",
        "    # X_test -= mean_image\n",
        "\n",
        "    # Add bias dimension and transform into columns\n",
        "    X_train = np.hstack((X_train, np.ones((X_train.shape[0], 1)))).T\n",
        "    X_val = np.hstack((X_val, np.ones((X_val.shape[0], 1)))).T\n",
        "    X_test = np.hstack((X_test, np.ones((X_test.shape[0], 1)))).T\n",
        "\n",
        "    return X_train, y_train, X_val, y_val, X_test, y_test\n",
        "\n",
        "\n",
        "# Invoke the above functions to get our data\n",
        "X_train_raw, y_train_raw, X_val_raw, y_val_raw, X_test_raw, y_test_raw = get_mnist_data()\n",
        "visualize_sample(X_train_raw, y_train_raw, classes)\n",
        "\n",
        "X_train, y_train, X_val, y_val, X_test, y_test = preprocessing_mnist_data(X_train_raw, y_train_raw, X_val_raw, y_val_raw, X_test_raw, y_test_raw)\n",
        "\n",
        "# As a sanity check, we print out th size of the training and test data dimenstion\n",
        "print('Train data shape: ', X_train.shape)\n",
        "print('Train labels shape: ', y_train.shape)\n",
        "print('Validation data shape: ', X_val.shape)\n",
        "print('Validation labels shape: ', y_val.shape)\n",
        "print('Test data shape: ', X_test.shape)\n",
        "print('Test labels shape: ', y_test.shape)\n"
      ],
      "execution_count": 0,
      "outputs": [
        {
          "output_type": "display_data",
          "data": {
            "image/png": "[encoded data removed]",
            "text/plain": [
              "<Figure size 432x288 with 70 Axes>"
            ]
          },
          "metadata": {
            "tags": []
          }
        },
        {
          "output_type": "stream",
          "text": [
            "Train data shape:  (785, 50000)\n",
            "Train labels shape:  (50000,)\n",
            "Validation data shape:  (785, 10000)\n",
            "Validation labels shape:  (10000,)\n",
            "Test data shape:  (785, 10000)\n",
            "Test labels shape:  (10000,)\n"
          ],
          "name": "stdout"
        }
      ]
    },
    {
      "cell_type": "code",
      "metadata": {
        "id": "egEQIOME7jjI",
        "colab_type": "code",
        "outputId": "124ba7a8-55e7-4cdd-a3bb-107c7fc6e986",
        "colab": {
          "base_uri": "https://localhost:8080/",
          "height": 185
        }
      },
      "source": [
        "#from algorithms.classifiers import loss_grad_softmax_naive, loss_grad_softmax_vectorized\n",
        "import time\n",
        "\n",
        "# generate a rand weights W \n",
        "W = np.random.randn(10, X_train.shape[0]) * 0.001\n",
        "tic = time.time()\n",
        "loss_naive, grad_naive = loss_grad_softmax_naive(W, X_train, y_train, 0.0001)\n",
        "toc = time.time()\n",
        "print('Naive loss: %f, and gradient: computed in %fs' % (loss_naive, toc - tic))\n",
        "\n",
        "tic = time.time()\n",
        "loss_vec, grad_vect = loss_grad_softmax_vectorized(W, X_train, y_train, 0.0001)\n",
        "toc = time.time()\n",
        "print('Vectorized loss: %f, and gradient: computed in %fs' % (loss_vec, toc - tic))\n",
        "\n",
        "# Compare the gradient, because the gradient is a vector, we canuse the Frobenius norm to compare them\n",
        "# the Frobenius norm of two matrices is the square root of the squared sum of differences of all elements\n",
        "diff = np.linalg.norm(grad_naive - grad_vect, ord='fro')\n",
        "# Randomly choose some gradient to check\n",
        "idxs = np.random.choice(X_train.shape[0], 10, replace=False)\n",
        "print(idxs)\n",
        "print(grad_naive[0, idxs])\n",
        "print(grad_vect[0, idxs])\n",
        "print('Gradient difference between naive and vectorized version is: %f' % diff)\n",
        "del loss_naive, loss_vec, grad_naive"
      ],
      "execution_count": 0,
      "outputs": [
        {
          "output_type": "stream",
          "text": [
            "Naive loss: 3.996153, and gradient: computed in 4.888870s\n",
            "Vectorized loss: 3.996153, and gradient: computed in 0.292579s\n",
            "[711 521 462 609 674 570  92 722 702 752]\n",
            "[ 1.10914590e+00 -8.49837466e+00  3.70707602e+00 -1.31341518e+00\n",
            "  5.04443235e-04 -1.04328705e+01  4.56743723e-02  1.50718117e-03\n",
            "  1.57381043e-05  1.45493828e-05]\n",
            "[ 1.10914590e+00 -8.49837466e+00  3.70707602e+00 -1.31341518e+00\n",
            "  5.04443235e-04 -1.04328705e+01  4.56743723e-02  1.50718117e-03\n",
            "  1.57381043e-05  1.45493828e-05]\n",
            "Gradient difference between naive and vectorized version is: 0.000000\n"
          ],
          "name": "stdout"
        }
      ]
    },
    {
      "cell_type": "code",
      "metadata": {
        "id": "xKUU7g5kLS4r",
        "colab_type": "code",
        "colab": {}
      },
      "source": [
        "# file: algorithms/gradient_check.py\n",
        "from random import randrange\n",
        "def grad_check_sparse(f, x, analytic_grad, num_checks):\n",
        "  \"\"\"\n",
        "  sample a few random elements and only return numerical\n",
        "  in this dimensions.\n",
        "  \"\"\"\n",
        "  h = 1e-5\n",
        "\n",
        "  print(x.shape)\n",
        "\n",
        "  for i in range(num_checks):\n",
        "    ix = tuple([randrange(m) for m in x.shape])\n",
        "    print(ix)\n",
        "    x[ix] += h # increment by h\n",
        "    fxph = f(x) # evaluate f(x + h)\n",
        "    x[ix] -= 2 * h # increment by h\n",
        "    fxmh = f(x) # evaluate f(x - h)\n",
        "    x[ix] += h # reset\n",
        "\n",
        "    grad_numerical = (fxph - fxmh) / (2 * h)\n",
        "    grad_analytic = analytic_grad[ix]\n",
        "    rel_error = abs(grad_numerical - grad_analytic) / (abs(grad_numerical) + abs(grad_analytic))\n",
        "    print('numerical: %f analytic: %f, relative error: %e' % (grad_numerical, grad_analytic, rel_error))"
      ],
      "execution_count": 0,
      "outputs": []
    },
    {
      "cell_type": "code",
      "metadata": {
        "id": "-gx3Mq36Lh_p",
        "colab_type": "code",
        "outputId": "c61040cf-463f-4130-b8e0-85e31b464791",
        "colab": {
          "base_uri": "https://localhost:8080/",
          "height": 370
        }
      },
      "source": [
        "# Check gradient using numerical gradient along several randomly chosen dimenstion\n",
        "f = lambda w: loss_grad_softmax_vectorized(w, X_train, y_train, 0)[0]\n",
        "grad_numerical = grad_check_sparse(f, W, grad_vect, 10)"
      ],
      "execution_count": 0,
      "outputs": [
        {
          "output_type": "stream",
          "text": [
            "(10, 785)\n",
            "(6, 53)\n",
            "numerical: 0.000000 analytic: 0.000000, relative error: 1.000000e+00\n",
            "(2, 614)\n",
            "numerical: -0.035584 analytic: -0.035584, relative error: 1.234708e-06\n",
            "(7, 336)\n",
            "numerical: 0.000000 analytic: -0.000000, relative error: 1.000000e+00\n",
            "(3, 671)\n",
            "numerical: 0.000000 analytic: 0.000000, relative error: 1.000000e+00\n",
            "(7, 430)\n",
            "numerical: 31.895413 analytic: 31.895411, relative error: 2.164904e-08\n",
            "(3, 129)\n",
            "numerical: -1.381416 analytic: -1.381417, relative error: 2.870702e-07\n",
            "(1, 244)\n",
            "numerical: 0.774376 analytic: 0.774375, relative error: 7.193545e-07\n",
            "(4, 375)\n",
            "numerical: -8.941478 analytic: -8.941478, relative error: 3.073808e-08\n",
            "(9, 152)\n",
            "numerical: 0.246961 analytic: 0.246961, relative error: 9.297431e-07\n",
            "(5, 774)\n",
            "numerical: 0.001069 analytic: 0.001069, relative error: 4.970310e-05\n"
          ],
          "name": "stdout"
        }
      ]
    },
    {
      "cell_type": "code",
      "metadata": {
        "id": "vmaAsEysMIvR",
        "colab_type": "code",
        "outputId": "abaed883-5237-4c90-f47e-9734000364a9",
        "colab": {
          "base_uri": "https://localhost:8080/",
          "height": 252
        }
      },
      "source": [
        "softmax_sgd = Softmax()\n",
        "tic = time.time()\n",
        "losses_sgd = softmax_sgd.train(X_train, y_train, method='sgd', batch_size=200, learning_rate=1e-6,\n",
        "                               reg = 1e5, num_iters=1000, verbose=True, vectorized=True)\n",
        "toc = time.time()\n",
        "print('Traning time for SGD with vectorized version is %f \\n' % (toc - tic))\n",
        "\n",
        "y_train_pred_sgd = softmax_sgd.predict(X_train)[0]\n",
        "print('Training accuracy: %f' % (np.mean(y_train.astype(int) == y_train_pred_sgd)))\n",
        "y_val_pred_sgd= softmax_sgd.predict(X_val)[0]\n",
        "print('Validation accuracy: %f' % (np.mean(y_val.astype(int) == y_val_pred_sgd)))"
      ],
      "execution_count": 0,
      "outputs": [
        {
          "output_type": "stream",
          "text": [
            "iteration 0/1000: loss 398.099885\n",
            "iteration 100/1000: loss 2.038546\n",
            "iteration 200/1000: loss 2.054587\n",
            "iteration 300/1000: loss 2.025516\n",
            "iteration 400/1000: loss 2.051416\n",
            "iteration 500/1000: loss 2.021544\n",
            "iteration 600/1000: loss 2.049318\n",
            "iteration 700/1000: loss 1.993020\n",
            "iteration 800/1000: loss 2.029770\n",
            "iteration 900/1000: loss 2.019542\n",
            "Traning time for SGD with vectorized version is 3.465394 \n",
            "\n",
            "Training accuracy: 0.737520\n",
            "Validation accuracy: 0.742100\n"
          ],
          "name": "stdout"
        }
      ]
    },
    {
      "cell_type": "code",
      "metadata": {
        "id": "YgN01FXQNGoM",
        "colab_type": "code",
        "colab": {}
      },
      "source": [
        "# import pandas\n",
        "# from pandas._libs import tslibs\n",
        "# from ggplot import *\n",
        "# qplot(range(len(losses_sgd)), losses_sgd) + labs(x='Iteration number', y='SGD Loss value')"
      ],
      "execution_count": 0,
      "outputs": []
    },
    {
      "cell_type": "code",
      "metadata": {
        "id": "zq3Gd5gxNLVr",
        "colab_type": "code",
        "outputId": "01c69db6-ffa7-4e7a-b51e-63f0c4756e09",
        "colab": {
          "base_uri": "https://localhost:8080/",
          "height": 1000
        }
      },
      "source": [
        "# Using validation set to tuen hyperparameters, i.e., learning rate and regularization strength\n",
        "learning_rates = [1e-5, 1e-8]\n",
        "regularization_strengths = [10e2, 10e4]\n",
        "\n",
        "# Result is a dictionary mapping tuples of the form (learning_rate, regularization_strength) \n",
        "# to tuples of the form (training_accuracy, validation_accuracy). The accuracy is simply the fraction\n",
        "# of data points that are correctly classified.\n",
        "results = {}\n",
        "best_val = -1\n",
        "best_softmax = None\n",
        "# Choose the best hyperparameters by tuning on the validation set\n",
        "i = 0\n",
        "interval = 5\n",
        "for learning_rate in np.linspace(learning_rates[0], learning_rates[1], num=interval):\n",
        "    i += 1\n",
        "    print('The current iteration is %d/%d' % (i, interval))\n",
        "    for reg in np.linspace(regularization_strengths[0], regularization_strengths[1], num=interval):\n",
        "        softmax = Softmax()\n",
        "        softmax.train(X_train, y_train, method='sgd', batch_size=200, learning_rate=learning_rate,\n",
        "              reg = reg, num_iters=1000, verbose=False, vectorized=True)\n",
        "        y_train_pred = softmax.predict(X_train)[0]\n",
        "        y_val_pred = softmax.predict(X_val)[0]\n",
        "        train_accuracy = np.mean(y_train.astype(int) == y_train_pred)\n",
        "        val_accuracy = np.mean(y_val.astype(int) == y_val_pred)\n",
        "        results[(learning_rate, reg)] = (train_accuracy, val_accuracy)\n",
        "        if val_accuracy > best_val:\n",
        "            best_val = val_accuracy\n",
        "            best_softmax = softmax\n",
        "        else:\n",
        "            pass\n",
        "\n",
        "# Print out the results\n",
        "for learning_rate, reg in sorted(results):\n",
        "    train_accuracy,val_accuracy = results[(learning_rate, reg)]\n",
        "    print('learning rate %e and regularization %e, \\n \\\n",
        "    the training accuracy is: %f and validation accuracy is: %f.\\n' % (learning_rate, reg, train_accuracy, val_accuracy))"
      ],
      "execution_count": 0,
      "outputs": [
        {
          "output_type": "stream",
          "text": [
            "The current iteration is 1/5\n",
            "The current iteration is 2/5\n",
            "The current iteration is 3/5\n",
            "The current iteration is 4/5\n",
            "The current iteration is 5/5\n",
            "learning rate 1.000000e-08 and regularization 1.000000e+03, \n",
            "     the training accuracy is: 0.148760 and validation accuracy is: 0.148400.\n",
            "\n",
            "learning rate 1.000000e-08 and regularization 2.575000e+04, \n",
            "     the training accuracy is: 0.170120 and validation accuracy is: 0.175500.\n",
            "\n",
            "learning rate 1.000000e-08 and regularization 5.050000e+04, \n",
            "     the training accuracy is: 0.215320 and validation accuracy is: 0.211200.\n",
            "\n",
            "learning rate 1.000000e-08 and regularization 7.525000e+04, \n",
            "     the training accuracy is: 0.195160 and validation accuracy is: 0.193400.\n",
            "\n",
            "learning rate 1.000000e-08 and regularization 1.000000e+05, \n",
            "     the training accuracy is: 0.314420 and validation accuracy is: 0.310000.\n",
            "\n",
            "learning rate 2.507500e-06 and regularization 1.000000e+03, \n",
            "     the training accuracy is: 0.890820 and validation accuracy is: 0.892300.\n",
            "\n",
            "learning rate 2.507500e-06 and regularization 2.575000e+04, \n",
            "     the training accuracy is: 0.824720 and validation accuracy is: 0.831400.\n",
            "\n",
            "learning rate 2.507500e-06 and regularization 5.050000e+04, \n",
            "     the training accuracy is: 0.743060 and validation accuracy is: 0.744000.\n",
            "\n",
            "learning rate 2.507500e-06 and regularization 7.525000e+04, \n",
            "     the training accuracy is: 0.694980 and validation accuracy is: 0.688200.\n",
            "\n",
            "learning rate 2.507500e-06 and regularization 1.000000e+05, \n",
            "     the training accuracy is: 0.658520 and validation accuracy is: 0.658800.\n",
            "\n",
            "learning rate 5.005000e-06 and regularization 1.000000e+03, \n",
            "     the training accuracy is: 0.893980 and validation accuracy is: 0.896800.\n",
            "\n",
            "learning rate 5.005000e-06 and regularization 2.575000e+04, \n",
            "     the training accuracy is: 0.764280 and validation accuracy is: 0.768400.\n",
            "\n",
            "learning rate 5.005000e-06 and regularization 5.050000e+04, \n",
            "     the training accuracy is: 0.597800 and validation accuracy is: 0.592500.\n",
            "\n",
            "learning rate 5.005000e-06 and regularization 7.525000e+04, \n",
            "     the training accuracy is: 0.521420 and validation accuracy is: 0.511800.\n",
            "\n",
            "learning rate 5.005000e-06 and regularization 1.000000e+05, \n",
            "     the training accuracy is: 0.703200 and validation accuracy is: 0.697700.\n",
            "\n",
            "learning rate 7.502500e-06 and regularization 1.000000e+03, \n",
            "     the training accuracy is: 0.885980 and validation accuracy is: 0.889100.\n",
            "\n",
            "learning rate 7.502500e-06 and regularization 2.575000e+04, \n",
            "     the training accuracy is: 0.614900 and validation accuracy is: 0.610100.\n",
            "\n",
            "learning rate 7.502500e-06 and regularization 5.050000e+04, \n",
            "     the training accuracy is: 0.481700 and validation accuracy is: 0.486600.\n",
            "\n",
            "learning rate 7.502500e-06 and regularization 7.525000e+04, \n",
            "     the training accuracy is: 0.310420 and validation accuracy is: 0.306700.\n",
            "\n",
            "learning rate 7.502500e-06 and regularization 1.000000e+05, \n",
            "     the training accuracy is: 0.170040 and validation accuracy is: 0.166300.\n",
            "\n",
            "learning rate 1.000000e-05 and regularization 1.000000e+03, \n",
            "     the training accuracy is: 0.890300 and validation accuracy is: 0.894600.\n",
            "\n",
            "learning rate 1.000000e-05 and regularization 2.575000e+04, \n",
            "     the training accuracy is: 0.494660 and validation accuracy is: 0.503900.\n",
            "\n",
            "learning rate 1.000000e-05 and regularization 5.050000e+04, \n",
            "     the training accuracy is: 0.437280 and validation accuracy is: 0.424600.\n",
            "\n",
            "learning rate 1.000000e-05 and regularization 7.525000e+04, \n",
            "     the training accuracy is: 0.401240 and validation accuracy is: 0.393900.\n",
            "\n",
            "learning rate 1.000000e-05 and regularization 1.000000e+05, \n",
            "     the training accuracy is: 0.170680 and validation accuracy is: 0.181700.\n",
            "\n"
          ],
          "name": "stdout"
        }
      ]
    },
    {
      "cell_type": "code",
      "metadata": {
        "id": "P7X3rTDxNQXo",
        "colab_type": "code",
        "outputId": "046ed264-7101-47cc-82b1-2ed6edf34885",
        "colab": {
          "base_uri": "https://localhost:8080/",
          "height": 34
        }
      },
      "source": [
        "y_test_predict_result = best_softmax.predict(X_test)\n",
        "y_test_predict = y_test_predict_result[0]\n",
        "test_accuracy = np.mean(y_test.astype(int) == y_test_predict)\n",
        "print('The test accuracy is: %f' % test_accuracy)\n"
      ],
      "execution_count": 0,
      "outputs": [
        {
          "output_type": "stream",
          "text": [
            "The test accuracy is: 0.891200\n"
          ],
          "name": "stdout"
        }
      ]
    },
    {
      "cell_type": "code",
      "metadata": {
        "id": "Z3lYlaskLvD4",
        "colab_type": "code",
        "outputId": "216b96a7-790c-4c9a-c355-be8c19ac79b6",
        "colab": {
          "base_uri": "https://localhost:8080/",
          "height": 298
        }
      },
      "source": [
        "import matplotlib.pyplot as plt\n",
        "\n",
        "tes = X_test[:,19]\n",
        "tes = tes.reshape(785,1)\n",
        "tes1 = tes[0:784,:]\n",
        "print(\"Plotting the Given Input ----\")\n",
        "plt.imshow(np.reshape(tes1,(28,28)),cmap=\"gray\")\n",
        "plt.show\n",
        "\n",
        "print(\"The Predicted Result:\", y_test_predict[19])"
      ],
      "execution_count": 0,
      "outputs": [
        {
          "output_type": "stream",
          "text": [
            "Plotting the Given Input ----\n",
            "The Predicted Result: 8\n"
          ],
          "name": "stdout"
        },
        {
          "output_type": "display_data",
          "data": {
            "image/png": "[encoded data removed]",
            "text/plain": [
              "<Figure size 432x288 with 1 Axes>"
            ]
          },
          "metadata": {
            "tags": []
          }
        }
      ]
    }
  ]
}