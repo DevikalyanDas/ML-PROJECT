{
  "nbformat": 4,
  "nbformat_minor": 0,
  "metadata": {
    "anaconda-cloud": {},
    "kernelspec": {
      "display_name": "Python [default]",
      "language": "python",
      "name": "python3"
    },
    "language_info": {
      "codemirror_mode": {
        "name": "ipython",
        "version": 3
      },
      "file_extension": ".py",
      "mimetype": "text/x-python",
      "name": "python",
      "nbconvert_exporter": "python",
      "pygments_lexer": "ipython3",
      "version": "3.5.2"
    },
    "colab": {
      "name": "LogR_python.ipynb",
      "provenance": [],
      "collapsed_sections": []
    }
  },
  "cells": [
    {
      "cell_type": "code",
      "metadata": {
        "id": "MM6mqW8EGaWv",
        "colab_type": "code",
        "outputId": "b66719c7-efd3-47ba-a65c-a1cecfd0a350",
        "colab": {
          "base_uri": "https://localhost:8080/",
          "height": 34
        }
      },
      "source": [
        "cd '/content/drive/My Drive/intern_pyth/ML/'"
      ],
      "execution_count": 33,
      "outputs": [
        {
          "output_type": "stream",
          "text": [
            "/content/drive/My Drive/intern_pyth/ML\n"
          ],
          "name": "stdout"
        }
      ]
    },
    {
      "cell_type": "markdown",
      "metadata": {
        "id": "3O8dklVpFrKA",
        "colab_type": "text"
      },
      "source": [
        "# Data preparation:"
      ]
    },
    {
      "cell_type": "code",
      "metadata": {
        "id": "pucty0Z8FrKC",
        "colab_type": "code",
        "colab": {}
      },
      "source": [
        "import pandas as pd   #to use read_csv(), crosstab()\n",
        "import numpy as np    #to use exponentiation : exp()\n",
        "import statsmodels.api as sm  #to use the Logit()\n",
        "\n",
        "import matplotlib.pyplot as plt\n",
        "#matplotlib inline\n",
        "import seaborn as sns\n",
        "import sklearn\n",
        "from sklearn.model_selection import train_test_split\n",
        "from sklearn.preprocessing import StandardScaler\n",
        "from sklearn.metrics import accuracy_score"
      ],
      "execution_count": 0,
      "outputs": []
    },
    {
      "cell_type": "code",
      "metadata": {
        "id": "0crOoeAOFrKG",
        "colab_type": "code",
        "colab": {}
      },
      "source": [
        "#import the dataset\n",
        "mydata=pd.read_csv('pima.csv',sep=\",\")"
      ],
      "execution_count": 0,
      "outputs": []
    },
    {
      "cell_type": "code",
      "metadata": {
        "id": "r8_AJoT_FrKK",
        "colab_type": "code",
        "outputId": "ab2a4b31-0605-449c-95dd-3702407163b8",
        "colab": {
          "base_uri": "https://localhost:8080/",
          "height": 34
        }
      },
      "source": [
        "#take a look at the dataset\n",
        "print(mydata.shape) #768*9"
      ],
      "execution_count": 36,
      "outputs": [
        {
          "output_type": "stream",
          "text": [
            "(768, 9)\n"
          ],
          "name": "stdout"
        }
      ]
    },
    {
      "cell_type": "code",
      "metadata": {
        "id": "XQjEP-ESFrKQ",
        "colab_type": "code",
        "outputId": "29354923-1fb2-4354-8bb9-15cb6a343a28",
        "colab": {
          "base_uri": "https://localhost:8080/",
          "height": 195
        }
      },
      "source": [
        "mydata.head() \n",
        "#Predictor variables:\n",
        "#NPG= number of times pregnant\n",
        "#PGL= Plasma glucose concentration a 2 hours in an oral glucose tolerance test \n",
        "#DIA= Diastolic blood pressure (mm Hg) \n",
        "#TSF=Triceps skin fold thickness (mm) \n",
        "#INS= 2-Hour serum insulin (mu U/ml) \n",
        "#BMI=Body mass index (weight in kg/(height in m)^2) \n",
        "#DPF= Diabetes pedigree function \n",
        "#AGE= Age (years) \n",
        "\n",
        "#Output variable:\n",
        "#Diabet= 0/1\n"
      ],
      "execution_count": 37,
      "outputs": [
        {
          "output_type": "execute_result",
          "data": {
            "text/html": [
              "<div>\n",
              "<style scoped>\n",
              "    .dataframe tbody tr th:only-of-type {\n",
              "        vertical-align: middle;\n",
              "    }\n",
              "\n",
              "    .dataframe tbody tr th {\n",
              "        vertical-align: top;\n",
              "    }\n",
              "\n",
              "    .dataframe thead th {\n",
              "        text-align: right;\n",
              "    }\n",
              "</style>\n",
              "<table border=\"1\" class=\"dataframe\">\n",
              "  <thead>\n",
              "    <tr style=\"text-align: right;\">\n",
              "      <th></th>\n",
              "      <th>NPG</th>\n",
              "      <th>PGL</th>\n",
              "      <th>DIA</th>\n",
              "      <th>TSF</th>\n",
              "      <th>INS</th>\n",
              "      <th>BMI</th>\n",
              "      <th>DPF</th>\n",
              "      <th>AGE</th>\n",
              "      <th>Diabet</th>\n",
              "    </tr>\n",
              "  </thead>\n",
              "  <tbody>\n",
              "    <tr>\n",
              "      <th>0</th>\n",
              "      <td>6</td>\n",
              "      <td>148</td>\n",
              "      <td>72</td>\n",
              "      <td>35</td>\n",
              "      <td>0</td>\n",
              "      <td>33.6</td>\n",
              "      <td>0.627</td>\n",
              "      <td>50</td>\n",
              "      <td>1</td>\n",
              "    </tr>\n",
              "    <tr>\n",
              "      <th>1</th>\n",
              "      <td>1</td>\n",
              "      <td>85</td>\n",
              "      <td>66</td>\n",
              "      <td>29</td>\n",
              "      <td>0</td>\n",
              "      <td>26.6</td>\n",
              "      <td>0.351</td>\n",
              "      <td>31</td>\n",
              "      <td>0</td>\n",
              "    </tr>\n",
              "    <tr>\n",
              "      <th>2</th>\n",
              "      <td>8</td>\n",
              "      <td>183</td>\n",
              "      <td>64</td>\n",
              "      <td>0</td>\n",
              "      <td>0</td>\n",
              "      <td>23.3</td>\n",
              "      <td>0.672</td>\n",
              "      <td>32</td>\n",
              "      <td>1</td>\n",
              "    </tr>\n",
              "    <tr>\n",
              "      <th>3</th>\n",
              "      <td>1</td>\n",
              "      <td>89</td>\n",
              "      <td>66</td>\n",
              "      <td>23</td>\n",
              "      <td>94</td>\n",
              "      <td>28.1</td>\n",
              "      <td>0.167</td>\n",
              "      <td>21</td>\n",
              "      <td>0</td>\n",
              "    </tr>\n",
              "    <tr>\n",
              "      <th>4</th>\n",
              "      <td>0</td>\n",
              "      <td>137</td>\n",
              "      <td>40</td>\n",
              "      <td>35</td>\n",
              "      <td>168</td>\n",
              "      <td>43.1</td>\n",
              "      <td>2.288</td>\n",
              "      <td>33</td>\n",
              "      <td>1</td>\n",
              "    </tr>\n",
              "  </tbody>\n",
              "</table>\n",
              "</div>"
            ],
            "text/plain": [
              "   NPG  PGL  DIA  TSF  INS   BMI    DPF  AGE  Diabet\n",
              "0    6  148   72   35    0  33.6  0.627   50       1\n",
              "1    1   85   66   29    0  26.6  0.351   31       0\n",
              "2    8  183   64    0    0  23.3  0.672   32       1\n",
              "3    1   89   66   23   94  28.1  0.167   21       0\n",
              "4    0  137   40   35  168  43.1  2.288   33       1"
            ]
          },
          "metadata": {
            "tags": []
          },
          "execution_count": 37
        }
      ]
    },
    {
      "cell_type": "code",
      "metadata": {
        "id": "eh5rXL5uFrKX",
        "colab_type": "code",
        "outputId": "5dbbda46-c1af-4db6-a4b8-9ffe415b7dc7",
        "colab": {
          "base_uri": "https://localhost:8080/",
          "height": 202
        }
      },
      "source": [
        "#summarize the data\n",
        "print(mydata.describe())"
      ],
      "execution_count": 38,
      "outputs": [
        {
          "output_type": "stream",
          "text": [
            "              NPG         PGL         DIA  ...         DPF         AGE      Diabet\n",
            "count  768.000000  768.000000  768.000000  ...  768.000000  768.000000  768.000000\n",
            "mean     3.845052  120.894531   69.105469  ...    0.471876   33.240885    0.348958\n",
            "std      3.369578   31.972618   19.355807  ...    0.331329   11.760232    0.476951\n",
            "min      0.000000    0.000000    0.000000  ...    0.078000   21.000000    0.000000\n",
            "25%      1.000000   99.000000   62.000000  ...    0.243750   24.000000    0.000000\n",
            "50%      3.000000  117.000000   72.000000  ...    0.372500   29.000000    0.000000\n",
            "75%      6.000000  140.250000   80.000000  ...    0.626250   41.000000    1.000000\n",
            "max     17.000000  199.000000  122.000000  ...    2.420000   81.000000    1.000000\n",
            "\n",
            "[8 rows x 9 columns]\n"
          ],
          "name": "stdout"
        }
      ]
    },
    {
      "cell_type": "code",
      "metadata": {
        "id": "GOMsj2fmFrKc",
        "colab_type": "code",
        "outputId": "4abe2e56-aae2-45a2-af17-69187cb5a5d2",
        "colab": {
          "base_uri": "https://localhost:8080/",
          "height": 185
        }
      },
      "source": [
        "#find the standard deviation of each column\n",
        "print(mydata.std())"
      ],
      "execution_count": 39,
      "outputs": [
        {
          "output_type": "stream",
          "text": [
            "NPG         3.369578\n",
            "PGL        31.972618\n",
            "DIA        19.355807\n",
            "TSF        15.952218\n",
            "INS       115.244002\n",
            "BMI         7.884160\n",
            "DPF         0.331329\n",
            "AGE        11.760232\n",
            "Diabet      0.476951\n",
            "dtype: float64\n"
          ],
          "name": "stdout"
        }
      ]
    },
    {
      "cell_type": "markdown",
      "metadata": {
        "id": "xuZfdn5ZFrKi",
        "colab_type": "text"
      },
      "source": [
        "# Data visualization:"
      ]
    },
    {
      "cell_type": "code",
      "metadata": {
        "id": "xhGV9A4kFrKj",
        "colab_type": "code",
        "colab": {}
      },
      "source": [
        "import pylab as pyl #for generating plots: show()"
      ],
      "execution_count": 0,
      "outputs": []
    },
    {
      "cell_type": "code",
      "metadata": {
        "id": "af_OLvRxFrKn",
        "colab_type": "code",
        "colab": {}
      },
      "source": [
        "import matplotlib.pyplot as plt #for tight_layout()"
      ],
      "execution_count": 0,
      "outputs": []
    },
    {
      "cell_type": "code",
      "metadata": {
        "id": "zo0Y6AQMFrKs",
        "colab_type": "code",
        "outputId": "33d98aba-53d1-4bfb-8dad-2e1778dd2c4f",
        "colab": {
          "base_uri": "https://localhost:8080/",
          "height": 297
        }
      },
      "source": [
        "#plot histograms of all the 9 columns\n",
        "mydata.hist()\n",
        "\n",
        "\n",
        "plt.tight_layout() #tight_layout(): adjust spacing between subplots to minimize the overlaps.\n",
        "pyl.show()         #show the histograms"
      ],
      "execution_count": 42,
      "outputs": [
        {
          "output_type": "display_data",
          "data": {
            "image/png": "[encoded data removed]",
            "text/plain": [
              "<Figure size 432x288 with 9 Axes>"
            ]
          },
          "metadata": {
            "tags": [],
            "needs_background": "light"
          }
        }
      ]
    },
    {
      "cell_type": "markdown",
      "metadata": {
        "id": "nAqaqPbzFrK7",
        "colab_type": "text"
      },
      "source": [
        "# Create placeholder for y-intercept"
      ]
    },
    {
      "cell_type": "code",
      "metadata": {
        "id": "wuLDROd5FrK8",
        "colab_type": "code",
        "outputId": "5bcd95a6-8963-4398-8830-351c1b57fcff",
        "colab": {
          "base_uri": "https://localhost:8080/",
          "height": 195
        }
      },
      "source": [
        "#explicitly create a placeholder for y-intercept: b0\n",
        "mydata['int']=1\n",
        "mydata.head()"
      ],
      "execution_count": 43,
      "outputs": [
        {
          "output_type": "execute_result",
          "data": {
            "text/html": [
              "<div>\n",
              "<style scoped>\n",
              "    .dataframe tbody tr th:only-of-type {\n",
              "        vertical-align: middle;\n",
              "    }\n",
              "\n",
              "    .dataframe tbody tr th {\n",
              "        vertical-align: top;\n",
              "    }\n",
              "\n",
              "    .dataframe thead th {\n",
              "        text-align: right;\n",
              "    }\n",
              "</style>\n",
              "<table border=\"1\" class=\"dataframe\">\n",
              "  <thead>\n",
              "    <tr style=\"text-align: right;\">\n",
              "      <th></th>\n",
              "      <th>NPG</th>\n",
              "      <th>PGL</th>\n",
              "      <th>DIA</th>\n",
              "      <th>TSF</th>\n",
              "      <th>INS</th>\n",
              "      <th>BMI</th>\n",
              "      <th>DPF</th>\n",
              "      <th>AGE</th>\n",
              "      <th>Diabet</th>\n",
              "      <th>int</th>\n",
              "    </tr>\n",
              "  </thead>\n",
              "  <tbody>\n",
              "    <tr>\n",
              "      <th>0</th>\n",
              "      <td>6</td>\n",
              "      <td>148</td>\n",
              "      <td>72</td>\n",
              "      <td>35</td>\n",
              "      <td>0</td>\n",
              "      <td>33.6</td>\n",
              "      <td>0.627</td>\n",
              "      <td>50</td>\n",
              "      <td>1</td>\n",
              "      <td>1</td>\n",
              "    </tr>\n",
              "    <tr>\n",
              "      <th>1</th>\n",
              "      <td>1</td>\n",
              "      <td>85</td>\n",
              "      <td>66</td>\n",
              "      <td>29</td>\n",
              "      <td>0</td>\n",
              "      <td>26.6</td>\n",
              "      <td>0.351</td>\n",
              "      <td>31</td>\n",
              "      <td>0</td>\n",
              "      <td>1</td>\n",
              "    </tr>\n",
              "    <tr>\n",
              "      <th>2</th>\n",
              "      <td>8</td>\n",
              "      <td>183</td>\n",
              "      <td>64</td>\n",
              "      <td>0</td>\n",
              "      <td>0</td>\n",
              "      <td>23.3</td>\n",
              "      <td>0.672</td>\n",
              "      <td>32</td>\n",
              "      <td>1</td>\n",
              "      <td>1</td>\n",
              "    </tr>\n",
              "    <tr>\n",
              "      <th>3</th>\n",
              "      <td>1</td>\n",
              "      <td>89</td>\n",
              "      <td>66</td>\n",
              "      <td>23</td>\n",
              "      <td>94</td>\n",
              "      <td>28.1</td>\n",
              "      <td>0.167</td>\n",
              "      <td>21</td>\n",
              "      <td>0</td>\n",
              "      <td>1</td>\n",
              "    </tr>\n",
              "    <tr>\n",
              "      <th>4</th>\n",
              "      <td>0</td>\n",
              "      <td>137</td>\n",
              "      <td>40</td>\n",
              "      <td>35</td>\n",
              "      <td>168</td>\n",
              "      <td>43.1</td>\n",
              "      <td>2.288</td>\n",
              "      <td>33</td>\n",
              "      <td>1</td>\n",
              "      <td>1</td>\n",
              "    </tr>\n",
              "  </tbody>\n",
              "</table>\n",
              "</div>"
            ],
            "text/plain": [
              "   NPG  PGL  DIA  TSF  INS   BMI    DPF  AGE  Diabet  int\n",
              "0    6  148   72   35    0  33.6  0.627   50       1    1\n",
              "1    1   85   66   29    0  26.6  0.351   31       0    1\n",
              "2    8  183   64    0    0  23.3  0.672   32       1    1\n",
              "3    1   89   66   23   94  28.1  0.167   21       0    1\n",
              "4    0  137   40   35  168  43.1  2.288   33       1    1"
            ]
          },
          "metadata": {
            "tags": []
          },
          "execution_count": 43
        }
      ]
    },
    {
      "cell_type": "markdown",
      "metadata": {
        "id": "PLRNTAN4YKdG",
        "colab_type": "text"
      },
      "source": [
        "# **Model Construction**"
      ]
    },
    {
      "cell_type": "code",
      "metadata": {
        "id": "lkZtszYUJnA8",
        "colab_type": "code",
        "colab": {}
      },
      "source": [
        "inp_df = mydata.drop(mydata.columns[[8]], axis=1)\n",
        "out_df = mydata.drop(mydata.columns[[0,1,2,3,4,5,6,7,9]], axis=1)\n",
        "#\n",
        "scaler = StandardScaler()\n",
        "inp_df = scaler.fit_transform(inp_df)\n",
        "#\n",
        "X_train, X_test, y_train, y_test = train_test_split(inp_df, out_df, test_size=0.2, random_state=42)"
      ],
      "execution_count": 0,
      "outputs": []
    },
    {
      "cell_type": "code",
      "metadata": {
        "id": "G-e0wFKyML8U",
        "colab_type": "code",
        "colab": {}
      },
      "source": [
        "X_tr_arr = X_train\n",
        "X_ts_arr = X_test\n",
        "y_tr_arr = y_train.to_numpy()\n",
        "y_ts_arr = y_test.to_numpy()"
      ],
      "execution_count": 0,
      "outputs": []
    },
    {
      "cell_type": "code",
      "metadata": {
        "id": "cZNyzQN4QLzC",
        "colab_type": "code",
        "outputId": "0212d117-d778-4410-ac4a-081854517a5e",
        "colab": {
          "base_uri": "https://localhost:8080/",
          "height": 50
        }
      },
      "source": [
        "print('Input Shape', (X_tr_arr.shape))\n",
        "print('Output Shape', X_test.shape)"
      ],
      "execution_count": 46,
      "outputs": [
        {
          "output_type": "stream",
          "text": [
            "Input Shape (614, 9)\n",
            "Output Shape (154, 9)\n"
          ],
          "name": "stdout"
        }
      ]
    },
    {
      "cell_type": "code",
      "metadata": {
        "id": "MBrzMerUQO26",
        "colab_type": "code",
        "colab": {}
      },
      "source": [
        "def weightInitialization(n_features):\n",
        "    w = np.zeros((1,n_features))\n",
        "    b = 0\n",
        "    return w,b"
      ],
      "execution_count": 0,
      "outputs": []
    },
    {
      "cell_type": "code",
      "metadata": {
        "id": "OSvsJ5yDQSfi",
        "colab_type": "code",
        "colab": {}
      },
      "source": [
        "def sigmoid_activation(result):\n",
        "    final_result = 1.0/(1.0+np.exp(-1.0 * result))\n",
        "    return final_result"
      ],
      "execution_count": 0,
      "outputs": []
    },
    {
      "cell_type": "code",
      "metadata": {
        "id": "hZUZWLmPQUqJ",
        "colab_type": "code",
        "colab": {}
      },
      "source": [
        "def model_optimize(w, b, X, Y):\n",
        "    m = X.shape[0]\n",
        "    \n",
        "    #Prediction\n",
        "    final_result = sigmoid_activation(np.dot(w,X.T)+b)\n",
        "    Y_T = Y.T\n",
        "    cost = (-1/m)*(np.sum((Y_T*np.log(final_result)) + ((1-Y_T)*(np.log(1-final_result)))))\n",
        "    #\n",
        "    \n",
        "    #Gradient calculation\n",
        "    dw = (1/m)*(np.dot(X.T, (final_result-Y.T).T))\n",
        "    db = (1/m)*(np.sum(final_result-Y.T))\n",
        "    \n",
        "    grads = {\"dw\": dw, \"db\": db}\n",
        "    \n",
        "    return grads, cost\n",
        "    "
      ],
      "execution_count": 0,
      "outputs": []
    },
    {
      "cell_type": "code",
      "metadata": {
        "id": "kigJ2f3hQXKL",
        "colab_type": "code",
        "colab": {}
      },
      "source": [
        "def model_predict(w, b, X, Y, learning_rate, no_iterations):\n",
        "    costs = []\n",
        "    for i in range(no_iterations):\n",
        "        #\n",
        "        grads, cost = model_optimize(w,b,X,Y)\n",
        "        #\n",
        "        dw = grads[\"dw\"]\n",
        "        db = grads[\"db\"]\n",
        "        #weight update\n",
        "        w = w - (learning_rate * (dw.T))\n",
        "        b = b - (learning_rate * db)\n",
        "        #\n",
        "        \n",
        "        if (i % 100 == 0):\n",
        "            costs.append(cost)\n",
        "            #print(\"Cost after %i iteration is %f\" %(i, cost))\n",
        "    \n",
        "    #final parameters\n",
        "    coeff = {\"w\": w, \"b\": b}\n",
        "    gradient = {\"dw\": dw, \"db\": db}\n",
        "    \n",
        "    return coeff, gradient, costs"
      ],
      "execution_count": 0,
      "outputs": []
    },
    {
      "cell_type": "code",
      "metadata": {
        "id": "W_ktmMqlQaoy",
        "colab_type": "code",
        "colab": {}
      },
      "source": [
        "def predict(final_pred, m):\n",
        "    y_pred = np.zeros((1,m))\n",
        "    for i in range(final_pred.shape[1]):\n",
        "        if final_pred[0][i] > 0.5:\n",
        "            y_pred[0][i] = 1\n",
        "    return y_pred"
      ],
      "execution_count": 0,
      "outputs": []
    },
    {
      "cell_type": "code",
      "metadata": {
        "id": "HK6Pcg1-Qc_j",
        "colab_type": "code",
        "outputId": "dabf9265-e431-4bbd-f363-4fa6b848bbb0",
        "colab": {
          "base_uri": "https://localhost:8080/",
          "height": 118
        }
      },
      "source": [
        "#Get number of features\n",
        "n_features = X_tr_arr.shape[1]\n",
        "\n",
        "print('Number of Features', n_features)\n",
        "w, b = weightInitialization(n_features)\n",
        "\n",
        "X_tr_arr = X_tr_arr.astype(float)\n",
        "y_tr_arr = y_tr_arr.astype(float)\n",
        "w = w.astype(float)\n",
        "\n",
        "#Gradient Descent\n",
        "coeff, gradient, costs = model_predict(w, b, X_tr_arr, y_tr_arr, learning_rate=0.0001,no_iterations=4500)\n",
        "#Final prediction\n",
        "w = coeff[\"w\"]\n",
        "b = coeff[\"b\"]\n",
        "print('Optimized weights', w)\n",
        "print('Optimized intercept',b)\n",
        "#\n",
        "final_train_pred = sigmoid_activation(np.dot(w,X_tr_arr.T)+b)\n",
        "final_test_pred = sigmoid_activation(np.dot(w,X_ts_arr.T)+b)\n",
        "#\n",
        "m_tr =  X_tr_arr.shape[0]\n",
        "m_ts =  X_ts_arr.shape[0]\n",
        "#\n",
        "y_tr_pred = predict(final_train_pred, m_tr)\n",
        "print('Training Accuracy',accuracy_score(y_tr_pred.T, y_tr_arr))\n",
        "#\n",
        "y_ts_pred = predict(final_test_pred, m_ts)\n",
        "print('Test Accuracy',accuracy_score(y_ts_pred.T, y_ts_arr))"
      ],
      "execution_count": 52,
      "outputs": [
        {
          "output_type": "stream",
          "text": [
            "Number of Features 9\n",
            "Optimized weights [[0.04090975 0.0901197  0.0121618  0.01034962 0.01862823 0.05922672\n",
            "  0.03080363 0.05487083 0.        ]]\n",
            "Optimized intercept -0.06501211742531268\n",
            "Training Accuracy 0.754071661237785\n",
            "Test Accuracy 0.7077922077922078\n"
          ],
          "name": "stdout"
        }
      ]
    },
    {
      "cell_type": "code",
      "metadata": {
        "id": "K8ch_IM7VU92",
        "colab_type": "code",
        "colab": {}
      },
      "source": [
        ""
      ],
      "execution_count": 0,
      "outputs": []
    },
    {
      "cell_type": "markdown",
      "metadata": {
        "id": "UC_9LkNTYYcc",
        "colab_type": "text"
      },
      "source": [
        "**For Prediction**"
      ]
    },
    {
      "cell_type": "code",
      "metadata": {
        "id": "WhdOq_6mRXw4",
        "colab_type": "code",
        "colab": {}
      },
      "source": [
        "def pred1(NPG,PGL,DIA,TSF,INS,BMI,DPF,AGE):\n",
        "    return w[0,8]+ w[0,0]*NPG + w[0,1]*PGL + w[0,2]*DIA + w[0,3]*TSF + w[0,4]*INS + w[0,5]*BMI + w[0,6]*DPF + w[0,7]*AGE"
      ],
      "execution_count": 0,
      "outputs": []
    },
    {
      "cell_type": "code",
      "metadata": {
        "id": "3Hw7b1qdT7jR",
        "colab_type": "code",
        "outputId": "006df7fe-8d98-4839-8492-baae66353000",
        "colab": {
          "base_uri": "https://localhost:8080/",
          "height": 34
        }
      },
      "source": [
        "\n",
        "mod1= pred1(8,196,30,38,230,45,0.180,34)\n",
        "print(mod1)"
      ],
      "execution_count": 54,
      "outputs": [
        {
          "output_type": "stream",
          "text": [
            "27.5697269059804\n"
          ],
          "name": "stdout"
        }
      ]
    },
    {
      "cell_type": "code",
      "metadata": {
        "id": "7kRwfiSbXl3D",
        "colab_type": "code",
        "outputId": "239ee7f9-ce55-40bc-fb88-03667b494740",
        "colab": {
          "base_uri": "https://localhost:8080/",
          "height": 34
        }
      },
      "source": [
        "pre= np.exp(mod1)/ (1+ np.exp(mod1)) #formula e^y1 / (1 + e^y1)\n",
        "print(pre) "
      ],
      "execution_count": 55,
      "outputs": [
        {
          "output_type": "stream",
          "text": [
            "0.9999999999989367\n"
          ],
          "name": "stdout"
        }
      ]
    },
    {
      "cell_type": "code",
      "metadata": {
        "id": "NN522s8iX11h",
        "colab_type": "code",
        "colab": {}
      },
      "source": [
        "# Thus, there is a 99% chance of the above patient getting diabetes (ie dependent variable y=1)"
      ],
      "execution_count": 0,
      "outputs": []
    }
  ]
}