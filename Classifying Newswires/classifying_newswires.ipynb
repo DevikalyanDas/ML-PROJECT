{
  "nbformat": 4,
  "nbformat_minor": 0,
  "metadata": {
    "colab": {
      "name": "classifying_newswires.ipynb",
      "provenance": [],
      "collapsed_sections": []
    },
    "kernelspec": {
      "name": "python3",
      "display_name": "Python 3"
    }
  },
  "cells": [
    {
      "cell_type": "code",
      "metadata": {
        "id": "VK5AimPKPNcs",
        "colab": {
          "base_uri": "https://localhost:8080/",
          "height": 154
        },
        "outputId": "713b1470-4853-4f09-da2c-f2c6bec02b5b"
      },
      "source": [
        "from keras.datasets import reuters\n",
        "\n",
        "(train_data,train_labels),(test_data,test_labels)=reuters.load_data(num_words=10000)\n",
        "print(len(train_data))\n",
        "print(len(train_labels))\n",
        "print(train_data[10])\n",
        "print(train_labels.shape)"
      ],
      "execution_count": null,
      "outputs": [
        {
          "output_type": "stream",
          "text": [
            "Using TensorFlow backend.\n"
          ],
          "name": "stderr"
        },
        {
          "output_type": "stream",
          "text": [
            "Downloading data from https://s3.amazonaws.com/text-datasets/reuters.npz\n",
            "2113536/2110848 [==============================] - 0s 0us/step\n",
            "8982\n",
            "8982\n",
            "[1, 245, 273, 207, 156, 53, 74, 160, 26, 14, 46, 296, 26, 39, 74, 2979, 3554, 14, 46, 4689, 4329, 86, 61, 3499, 4795, 14, 61, 451, 4329, 17, 12]\n",
            "(8982,)\n"
          ],
          "name": "stdout"
        }
      ]
    },
    {
      "cell_type": "code",
      "metadata": {
        "id": "hIh_atzuWMRV",
        "colab": {
          "base_uri": "https://localhost:8080/",
          "height": 70
        },
        "outputId": "f0dc4c77-bc85-4575-b905-8e422d841180"
      },
      "source": [
        "# Reverse dictionary to see words instead of integers\n",
        "# Note that the indices are offset by 3 because 0, 1, and 2 are reserved indices for “padding,” “start of sequence,” and “unknown.”\n",
        "\n",
        "word_index = reuters.get_word_index()\n",
        "reverse_word_index = dict([(value, key) for (key, value) in word_index.items()])\n",
        "decoded_newswire = ' '.join([reverse_word_index.get(i - 3, '?') for i in\n",
        "train_data[0]])\n",
        "\n",
        "print(decoded_newswire)\n",
        "print(train_labels[0])"
      ],
      "execution_count": null,
      "outputs": [
        {
          "output_type": "stream",
          "text": [
            "? ? ? said as a result of its december acquisition of space co it expects earnings per share in 1987 of 1 15 to 1 30 dlrs per share up from 70 cts in 1986 the company said pretax net should rise to nine to 10 mln dlrs from six mln dlrs in 1986 and rental operation revenues to 19 to 22 mln dlrs from 12 5 mln dlrs it said cash flow per share this year should be 2 50 to three dlrs reuter 3\n",
            "3\n"
          ],
          "name": "stdout"
        }
      ]
    },
    {
      "cell_type": "code",
      "metadata": {
        "id": "9LycrSbtWtWS"
      },
      "source": [
        "# preparing the data\n",
        "# encoding the data\n",
        "import numpy as np\n",
        "# VECTORIZE function\n",
        "\n",
        "def vectorize_sequences(sequences, dimension=10000):\n",
        "    results = np.zeros((len(sequences), dimension))\n",
        "    for i, sequence in enumerate(sequences):\n",
        "        results[i, sequence] = 1.\n",
        "    return results"
      ],
      "execution_count": null,
      "outputs": []
    },
    {
      "cell_type": "code",
      "metadata": {
        "id": "qlpNolFoDbTn",
        "colab": {
          "base_uri": "https://localhost:8080/",
          "height": 50
        },
        "outputId": "3f014aec-cafa-419a-ee16-0799589dd2dd"
      },
      "source": [
        "# Vectorize and Normalize train and test to tensors with 10k columns\n",
        "\n",
        "x_train = vectorize_sequences(train_data)\n",
        "x_test = vectorize_sequences(test_data)\n",
        "\n",
        "print(\"x_train \", x_train.shape)\n",
        "print(\"x_test \", x_test.shape)"
      ],
      "execution_count": null,
      "outputs": [
        {
          "output_type": "stream",
          "text": [
            "x_train  (8982, 10000)\n",
            "x_test  (2246, 10000)\n"
          ],
          "name": "stdout"
        }
      ]
    },
    {
      "cell_type": "code",
      "metadata": {
        "id": "BiA5uF9gzC4Y",
        "colab": {
          "base_uri": "https://localhost:8080/",
          "height": 34
        },
        "outputId": "4b547386-f684-4407-95ac-c155f05cd215"
      },
      "source": [
        "x_train[10]"
      ],
      "execution_count": null,
      "outputs": [
        {
          "output_type": "execute_result",
          "data": {
            "text/plain": [
              "array([0., 1., 0., ..., 0., 0., 0.])"
            ]
          },
          "metadata": {
            "tags": []
          },
          "execution_count": 5
        }
      ]
    },
    {
      "cell_type": "code",
      "metadata": {
        "id": "XWWfMFw7XPBq"
      },
      "source": [
        "# for categorical data we mainly prefer one_hot encoding\n",
        "\n",
        "def to_one_hot(labels,dimension=46):\n",
        "    results = np.zeros((len(labels),dimension))\n",
        "    for i, label in enumerate(labels):\n",
        "        results[i,label] = 1\n",
        "    return results\n",
        "\n",
        "one_hot_train_labels = to_one_hot(train_labels)\n",
        "one_hot_test_labels = to_one_hot(test_labels)"
      ],
      "execution_count": null,
      "outputs": []
    },
    {
      "cell_type": "code",
      "metadata": {
        "id": "qyQNajpI_vFO",
        "colab": {
          "base_uri": "https://localhost:8080/",
          "height": 50
        },
        "outputId": "75eafc4f-0dc8-4818-a4ce-340e48214dba"
      },
      "source": [
        "#  one hot encoding can also be done using keras built-in properties\n",
        "\n",
        "from keras.utils import to_categorical\n",
        "\n",
        "one_hot_train_labels = to_categorical(train_labels)\n",
        "one_hot_test_labels = to_categorical(test_labels)\n",
        "\n",
        "print(\"one_hot_train_labels \", one_hot_train_labels.shape)\n",
        "print(\"one_hot_test_labels \", one_hot_test_labels.shape)"
      ],
      "execution_count": null,
      "outputs": [
        {
          "output_type": "stream",
          "text": [
            "one_hot_train_labels  (8982, 46)\n",
            "one_hot_test_labels  (2246, 46)\n"
          ],
          "name": "stdout"
        }
      ]
    },
    {
      "cell_type": "code",
      "metadata": {
        "id": "ln1VF0qsDahS",
        "colab": {
          "base_uri": "https://localhost:8080/",
          "height": 84
        },
        "outputId": "8d823a1d-14a4-4020-b886-d79e93d403e9"
      },
      "source": [
        "# setting aside validation data\n",
        "\n",
        "x_val = x_train[:1000]\n",
        "partial_x_train = x_train[1000:]\n",
        "\n",
        "y_val = one_hot_train_labels[:1000]\n",
        "partial_y_train = one_hot_train_labels[1000:]\n",
        "\n",
        "print(\"x_val \", x_val.shape)\n",
        "print(\"y_val \", y_val.shape)\n",
        "\n",
        "print(\"partial_x_train \", partial_x_train.shape)\n",
        "print(\"partial_y_train \", partial_y_train.shape)"
      ],
      "execution_count": null,
      "outputs": [
        {
          "output_type": "stream",
          "text": [
            "x_val  (1000, 10000)\n",
            "y_val  (1000, 46)\n",
            "partial_x_train  (7982, 10000)\n",
            "partial_y_train  (7982, 46)\n"
          ],
          "name": "stdout"
        }
      ]
    },
    {
      "cell_type": "code",
      "metadata": {
        "id": "SCWlh7s6DDrS",
        "colab": {
          "base_uri": "https://localhost:8080/",
          "height": 286
        },
        "outputId": "ba495485-b6e0-4d40-e5a2-ec251cc93c89"
      },
      "source": [
        "#  model definition\n",
        "\n",
        "from keras import models,layers\n",
        "from keras import regularizers\n",
        "\n",
        "model = models.Sequential()\n",
        "model.add(layers.Dense(64, kernel_regularizer=regularizers.l1(0.001), activation='relu', input_shape=(10000,)))\n",
        "# model.add(layers.Dropout(0.5))\n",
        "model.add(layers.Dense(64, kernel_regularizer=regularizers.l1(0.001), activation='relu'))\n",
        "model.add(layers.Dropout(0.5))\n",
        "model.add(layers.Dense(46, activation='softmax'))\n",
        "model.summary()"
      ],
      "execution_count": null,
      "outputs": [
        {
          "output_type": "stream",
          "text": [
            "Model: \"sequential_20\"\n",
            "_________________________________________________________________\n",
            "Layer (type)                 Output Shape              Param #   \n",
            "=================================================================\n",
            "dense_55 (Dense)             (None, 64)                640064    \n",
            "_________________________________________________________________\n",
            "dense_56 (Dense)             (None, 64)                4160      \n",
            "_________________________________________________________________\n",
            "dropout_9 (Dropout)          (None, 64)                0         \n",
            "_________________________________________________________________\n",
            "dense_57 (Dense)             (None, 46)                2990      \n",
            "=================================================================\n",
            "Total params: 647,214\n",
            "Trainable params: 647,214\n",
            "Non-trainable params: 0\n",
            "_________________________________________________________________\n"
          ],
          "name": "stdout"
        }
      ]
    },
    {
      "cell_type": "code",
      "metadata": {
        "id": "dcreBqQiDtDD",
        "colab": {
          "base_uri": "https://localhost:8080/",
          "height": 454
        },
        "outputId": "1477557e-ceb3-4dd0-db9e-48a31a5c8bae"
      },
      "source": [
        "# FIT / TRAIN model\n",
        "\n",
        "NumEpochs = 10\n",
        "BatchSize = 512\n",
        "\n",
        "model.compile(optimizer='rmsprop',loss='categorical_crossentropy', metrics=['accuracy'])\n",
        "history = model.fit(partial_x_train, partial_y_train, epochs=NumEpochs, batch_size=BatchSize, validation_data=(x_val, y_val))\n",
        "\n",
        "results = model.evaluate(x_val, y_val)\n",
        "print(\"_\"*100)\n",
        "print(\"Test Loss and Accuracy\")\n",
        "print(\"results \", results)\n",
        "\n",
        "history_dict = history.history\n",
        "history_dict.keys()"
      ],
      "execution_count": null,
      "outputs": [
        {
          "output_type": "stream",
          "text": [
            "Train on 7982 samples, validate on 1000 samples\n",
            "Epoch 1/10\n",
            "7982/7982 [==============================] - 2s 298us/step - loss: 6.0882 - acc: 0.3869 - val_loss: 3.1430 - val_acc: 0.5400\n",
            "Epoch 2/10\n",
            "7982/7982 [==============================] - 1s 140us/step - loss: 3.0533 - acc: 0.5226 - val_loss: 2.6669 - val_acc: 0.6150\n",
            "Epoch 3/10\n",
            "7982/7982 [==============================] - 1s 136us/step - loss: 2.7261 - acc: 0.5818 - val_loss: 2.4787 - val_acc: 0.6570\n",
            "Epoch 4/10\n",
            "7982/7982 [==============================] - 1s 136us/step - loss: 2.5664 - acc: 0.6190 - val_loss: 2.3711 - val_acc: 0.6730\n",
            "Epoch 5/10\n",
            "7982/7982 [==============================] - 1s 141us/step - loss: 2.4480 - acc: 0.6411 - val_loss: 2.2959 - val_acc: 0.6770\n",
            "Epoch 6/10\n",
            "7982/7982 [==============================] - 1s 137us/step - loss: 2.3621 - acc: 0.6592 - val_loss: 2.2459 - val_acc: 0.6920\n",
            "Epoch 7/10\n",
            "7982/7982 [==============================] - 1s 138us/step - loss: 2.2967 - acc: 0.6693 - val_loss: 2.1965 - val_acc: 0.6970\n",
            "Epoch 8/10\n",
            "7982/7982 [==============================] - 1s 136us/step - loss: 2.2478 - acc: 0.6768 - val_loss: 2.1434 - val_acc: 0.6920\n",
            "Epoch 9/10\n",
            "7982/7982 [==============================] - 1s 138us/step - loss: 2.1917 - acc: 0.6834 - val_loss: 2.0788 - val_acc: 0.6980\n",
            "Epoch 10/10\n",
            "7982/7982 [==============================] - 1s 138us/step - loss: 2.1487 - acc: 0.6869 - val_loss: 2.0780 - val_acc: 0.6940\n",
            "1000/1000 [==============================] - 0s 108us/step\n",
            "____________________________________________________________________________________________________\n",
            "Test Loss and Accuracy\n",
            "results  [2.0779816112518312, 0.694]\n"
          ],
          "name": "stdout"
        },
        {
          "output_type": "execute_result",
          "data": {
            "text/plain": [
              "dict_keys(['val_loss', 'val_acc', 'loss', 'acc'])"
            ]
          },
          "metadata": {
            "tags": []
          },
          "execution_count": 84
        }
      ]
    },
    {
      "cell_type": "code",
      "metadata": {
        "id": "fTMRjFlmD1pQ",
        "colab": {
          "base_uri": "https://localhost:8080/",
          "height": 295
        },
        "outputId": "f7edae31-b0b8-4fbf-cad6-7b9d4a5125a3"
      },
      "source": [
        "# plotting the losses\n",
        "\n",
        "# plotting training loss and validation loss\n",
        "import matplotlib.pyplot as plt\n",
        "\n",
        "loss = history.history['loss']\n",
        "val_loss = history.history['val_loss']\n",
        "epochs = range(1,len(loss)+1)\n",
        "plt.plot(epochs,loss,'bo',label='Training Loss')\n",
        "plt.plot(epochs,val_loss,'b',label='Validation Loss')\n",
        "plt.title('Training and Validation Loss')\n",
        "plt.xlabel('Epochs')\n",
        "plt.ylabel('Loss')\n",
        "plt.legend()\n",
        "plt.show()"
      ],
      "execution_count": null,
      "outputs": [
        {
          "output_type": "display_data",
          "data": {
            "image/png": "[encoded data removed]",
            "text/plain": [
              "<Figure size 432x288 with 1 Axes>"
            ]
          },
          "metadata": {
            "tags": []
          }
        }
      ]
    },
    {
      "cell_type": "code",
      "metadata": {
        "id": "O6frii0NEoo2"
      },
      "source": [
        "print(loss)"
      ],
      "execution_count": null,
      "outputs": []
    },
    {
      "cell_type": "code",
      "metadata": {
        "id": "axLtchPqEZdS",
        "colab": {
          "base_uri": "https://localhost:8080/",
          "height": 295
        },
        "outputId": "4c3facf4-81af-4d28-da42-a1c42de6856e"
      },
      "source": [
        "# plotting accuracy\n",
        "plt.clf()  # clears the figure\n",
        "\n",
        "\n",
        "acc = history.history['acc']\n",
        "val_acc = history.history['val_acc']\n",
        "epochs = range(1,len(acc)+1)\n",
        "plt.plot(epochs,acc,'bo',label='Training Acc')\n",
        "plt.plot(epochs,val_acc,'b',label='Validation Acc')\n",
        "plt.title('Training and Validation Accuracy')\n",
        "plt.xlabel('Epochs')\n",
        "plt.ylabel('Accuracy')\n",
        "plt.legend()\n",
        "plt.show()"
      ],
      "execution_count": null,
      "outputs": [
        {
          "output_type": "display_data",
          "data": {
            "image/png": "[encoded data removed]",
            "text/plain": [
              "<Figure size 432x288 with 1 Axes>"
            ]
          },
          "metadata": {
            "tags": []
          }
        }
      ]
    },
    {
      "cell_type": "code",
      "metadata": {
        "id": "tceBsrYTGUWe",
        "colab": {
          "base_uri": "https://localhost:8080/",
          "height": 34
        },
        "outputId": "9bd08cf1-c6e3-4c5a-873c-551f87fb2fc4"
      },
      "source": [
        "print(history.history.keys())"
      ],
      "execution_count": null,
      "outputs": [
        {
          "output_type": "stream",
          "text": [
            "dict_keys(['val_loss', 'val_acc', 'loss', 'acc'])\n"
          ],
          "name": "stdout"
        }
      ]
    },
    {
      "cell_type": "code",
      "metadata": {
        "id": "ElEdM1boIY4c",
        "colab": {
          "base_uri": "https://localhost:8080/",
          "height": 373
        },
        "outputId": "7f199872-272f-4862-d7ff-ee139075f6ae"
      },
      "source": [
        "#  the netowrk overfits after 9 epochs\n",
        "\n",
        "model = models.Sequential()\n",
        "model.add(layers.Dense(64,activation = 'relu',input_shape = (10000,)))\n",
        "model.add(layers.Dense(64,activation = 'relu'))\n",
        "model.add(layers.Dense(46,activation = 'softmax'))\n",
        "\n",
        "model.compile(optimizer='rmsprop',loss='categorical_crossentropy',metrics=['categorical_accuracy'])\n",
        "\n",
        "history = model.fit(partial_x_train,partial_y_train,epochs=9,batch_size=512,validation_data=(x_val,y_val))\n",
        "\n",
        "results = model.evaluate(x_test,one_hot_test_labels)\n"
      ],
      "execution_count": null,
      "outputs": [
        {
          "output_type": "stream",
          "text": [
            "Train on 7982 samples, validate on 1000 samples\n",
            "Epoch 1/9\n",
            "7982/7982 [==============================] - 2s 290us/step - loss: 2.8332 - categorical_accuracy: 0.4441 - val_loss: 1.8647 - val_categorical_accuracy: 0.6500\n",
            "Epoch 2/9\n",
            "7982/7982 [==============================] - 1s 132us/step - loss: 1.5054 - categorical_accuracy: 0.7103 - val_loss: 1.3414 - val_categorical_accuracy: 0.7160\n",
            "Epoch 3/9\n",
            "7982/7982 [==============================] - 1s 134us/step - loss: 1.0766 - categorical_accuracy: 0.7736 - val_loss: 1.1311 - val_categorical_accuracy: 0.7550\n",
            "Epoch 4/9\n",
            "7982/7982 [==============================] - 1s 133us/step - loss: 0.8316 - categorical_accuracy: 0.8274 - val_loss: 1.0442 - val_categorical_accuracy: 0.7820\n",
            "Epoch 5/9\n",
            "7982/7982 [==============================] - 1s 132us/step - loss: 0.6601 - categorical_accuracy: 0.8659 - val_loss: 0.9681 - val_categorical_accuracy: 0.7950\n",
            "Epoch 6/9\n",
            "7982/7982 [==============================] - 1s 132us/step - loss: 0.5263 - categorical_accuracy: 0.8961 - val_loss: 0.9408 - val_categorical_accuracy: 0.8050\n",
            "Epoch 7/9\n",
            "7982/7982 [==============================] - 1s 133us/step - loss: 0.4229 - categorical_accuracy: 0.9164 - val_loss: 0.8957 - val_categorical_accuracy: 0.8150\n",
            "Epoch 8/9\n",
            "7982/7982 [==============================] - 1s 133us/step - loss: 0.3411 - categorical_accuracy: 0.9320 - val_loss: 0.8726 - val_categorical_accuracy: 0.8330\n",
            "Epoch 9/9\n",
            "7982/7982 [==============================] - 1s 134us/step - loss: 0.2843 - categorical_accuracy: 0.9420 - val_loss: 0.9030 - val_categorical_accuracy: 0.8180\n",
            "2246/2246 [==============================] - 0s 89us/step\n"
          ],
          "name": "stdout"
        }
      ]
    },
    {
      "cell_type": "code",
      "metadata": {
        "id": "Pux_HUNrJNYK",
        "colab": {
          "base_uri": "https://localhost:8080/",
          "height": 67
        },
        "outputId": "28cddaf7-e0a3-4b14-a098-17c745ac2cd1"
      },
      "source": [
        "\n",
        "# PREDICT\n",
        "\n",
        "predictions = model.predict(x_test)\n",
        "# Each entry in predictions is a vector of length 46\n",
        "print(predictions[123].shape)\n",
        "\n",
        "# The coefficients in this vector sum to 1:\n",
        "print(np.sum(predictions[123]))\n",
        "\n",
        "# The largest entry is the predicted class — the class with the highest probability:\n",
        "print(np.argmax(predictions[124]))"
      ],
      "execution_count": null,
      "outputs": [
        {
          "output_type": "stream",
          "text": [
            "(46,)\n",
            "1.0000001\n",
            "18\n"
          ],
          "name": "stdout"
        }
      ]
    },
    {
      "cell_type": "code",
      "metadata": {
        "id": "t4x7MMQVGrW2",
        "colab": {
          "base_uri": "https://localhost:8080/",
          "height": 50
        },
        "outputId": "b785bca3-c157-45c7-f122-a00abb997221"
      },
      "source": [
        "# Get the top 3 classes\n",
        "print(predictions[124].argsort()[-3:][::-1])\n",
        "\n",
        "print(test_labels[124])"
      ],
      "execution_count": null,
      "outputs": [
        {
          "output_type": "stream",
          "text": [
            "[18 43  2]\n",
            "18\n"
          ],
          "name": "stdout"
        }
      ]
    },
    {
      "cell_type": "code",
      "metadata": {
        "id": "uGmGHUHzMQkV"
      },
      "source": [
        "# one more way of encoding the labels would be to cast them as an integer tensor\n",
        "\n",
        "y_train = np.array(train_labels)\n",
        "y_test = np.array(test_labels)\n",
        "# now with integer labels we will use sparse categorical crossentropy loss function"
      ],
      "execution_count": null,
      "outputs": []
    }
  ]
}